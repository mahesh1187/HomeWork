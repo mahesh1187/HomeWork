{
 "cells": [
  {
   "cell_type": "code",
   "execution_count": null,
   "metadata": {},
   "outputs": [],
   "source": [
    "import string\n",
    "import os\n",
    "from ctypes import windll\n",
    "\n",
    "e = input('Enter your file name or file extension :')\n",
    "\n",
    "def get_drives():\n",
    "    drives = []\n",
    "    bitmask = windll.kernel32.GetLogicalDrives()\n",
    "    for letter in string.ascii_uppercase:\n",
    "        if bitmask & 1:\n",
    "            drives.append(letter)\n",
    "        bitmask >>= 1\n",
    "    return drives\n",
    "\n",
    "def searchfile():\n",
    "    fileloc =[]\n",
    "    for i in get_drives():\n",
    "        for r ,d, f in os.walk(i+':\\\\'):\n",
    "            for fl in f:\n",
    "                if e in fl:\n",
    "                    if fl.endswith(e):\n",
    "                        k = os.path.join(r,fl)\n",
    "                        fileloc.append(k)\n",
    "                        #print('your file location is {}'.format(os.path.join(r,fl)))                      \n",
    "    return len(fileloc) , fileloc\n",
    "searchfile()\n",
    "     \n",
    "                        \n",
    "    \n",
    "    \n",
    "\n",
    "\n",
    "\n"
   ]
  }
 ],
 "metadata": {
  "kernelspec": {
   "display_name": "Python 3",
   "language": "python",
   "name": "python3"
  },
  "language_info": {
   "codemirror_mode": {
    "name": "ipython",
    "version": 3
   },
   "file_extension": ".py",
   "mimetype": "text/x-python",
   "name": "python",
   "nbconvert_exporter": "python",
   "pygments_lexer": "ipython3",
   "version": "3.8.5"
  }
 },
 "nbformat": 4,
 "nbformat_minor": 4
}
