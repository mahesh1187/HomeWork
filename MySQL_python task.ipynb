{
 "cells": [
  {
   "cell_type": "code",
   "execution_count": null,
   "metadata": {},
   "outputs": [],
   "source": [
    "# Importing Lib to complete this task.\n",
    "import mysql.connector as conn\n",
    "import csv \n",
    "import requests\n",
    "\n",
    "\n"
   ]
  },
  {
   "cell_type": "markdown",
   "metadata": {},
   "source": [
    "# Reading file from given URL"
   ]
  },
  {
   "cell_type": "code",
   "execution_count": null,
   "metadata": {},
   "outputs": [],
   "source": [
    "# Reading file from Url\n",
    "path= \"https://archive.ics.uci.edu/ml/machine-learning-databases/00448/carbon_nanotubes.csv\"\n",
    "\n",
    "l=[]\n",
    "with requests.Session() as s:\n",
    "    download = s.get(path)\n",
    "    file = download.content.decode('utf-8')\n",
    "    cr = csv.reader(file.splitlines(), delimiter=';')\n",
    "    for i in cr:        \n",
    "        l.append(i)\n",
    "   \n"
   ]
  },
  {
   "cell_type": "markdown",
   "metadata": {},
   "source": [
    "# Database creation with Python Code"
   ]
  },
  {
   "cell_type": "code",
   "execution_count": null,
   "metadata": {},
   "outputs": [],
   "source": [
    "# connection cratation through python \n",
    "try:\n",
    "    cnx = conn.connect(user='root',password='1011',host='localhost')\n",
    "    # creating database\n",
    "    q= 'Create database IF NOT EXISTS CarbonNanotubes;'\n",
    "    \n",
    "    # creating cursor to execute query\n",
    "    cur = cnx.cursor()\n",
    "    cur.execute(q)\n",
    "    print('Database Created!!')\n",
    "\n",
    "except exception as e:\n",
    "    cnx.close()\n",
    "    print(str(e))\n",
    "\n",
    "\n",
    "\n"
   ]
  },
  {
   "cell_type": "markdown",
   "metadata": {},
   "source": [
    "# Creating a database using Mysql"
   ]
  },
  {
   "cell_type": "code",
   "execution_count": null,
   "metadata": {},
   "outputs": [],
   "source": [
    "# Creating table in Database\n",
    "q1 = 'Create table if not exists CarbonNanotubes.Carbon_details (Chiralindicen int,Chiralindicem int,Initialatomiccoordinateu varchar(20),Initialatomiccoordinatev varchar(20),Initialatomiccoordinatew varchar(20),Calculatedatomiccoordinatesu varchar(20) ,Calculatedatomiccoordinatesv varchar(20),Calculatedatomiccoordinatesw varchar(20) );'\n",
    "\n",
    "cur.execute(q1)\n",
    "print('Table created!!')"
   ]
  },
  {
   "cell_type": "markdown",
   "metadata": {},
   "source": [
    "# Inserting data from file to Table"
   ]
  },
  {
   "cell_type": "code",
   "execution_count": null,
   "metadata": {},
   "outputs": [],
   "source": [
    "# Inserting data into Target table\n",
    "\n",
    "cur = cnx.cursor()\n",
    "for i in range(1,len(l)):\n",
    "    k = tuple(l[i])\n",
    "    q = 'INSERT INTO CarbonNanotubes.Carbon_details VALUES{};'.format(k)\n",
    "    cur.execute(q)\n",
    "    cnx.commit()\n"
   ]
  },
  {
   "cell_type": "markdown",
   "metadata": {},
   "source": [
    "# Checking count of inserted rows from table"
   ]
  },
  {
   "cell_type": "code",
   "execution_count": null,
   "metadata": {},
   "outputs": [],
   "source": [
    "cur.execute('select * from CarbonNanotubes.Carbon_details;')\n",
    "cur.fetchall()\n",
    "r = cur.rowcount\n",
    "print('Total rows inserted in table is = {}'.format(r))"
   ]
  },
  {
   "cell_type": "code",
   "execution_count": null,
   "metadata": {},
   "outputs": [],
   "source": [
    "#print(\"Rows returned = \",cur.rowcount)"
   ]
  }
 ],
 "metadata": {
  "kernelspec": {
   "display_name": "Python 3",
   "language": "python",
   "name": "python3"
  },
  "language_info": {
   "codemirror_mode": {
    "name": "ipython",
    "version": 3
   },
   "file_extension": ".py",
   "mimetype": "text/x-python",
   "name": "python",
   "nbconvert_exporter": "python",
   "pygments_lexer": "ipython3",
   "version": "3.8.5"
  }
 },
 "nbformat": 4,
 "nbformat_minor": 4
}
